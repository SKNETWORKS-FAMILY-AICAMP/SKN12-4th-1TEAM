{
 "cells": [
  {
   "cell_type": "code",
   "execution_count": null,
   "id": "1934936f",
   "metadata": {},
   "outputs": [
    {
     "name": "stdout",
     "output_type": "stream",
     "text": [
      "✅ 숙박업소 JSON 변환 완료: c:\\Users\\treze\\OneDrive\\바탕 화면\\3rd1st\\data\\pet_lodging_places_202412.json\n"
     ]
    }
   ],
   "source": [
    "import pandas as pd\n",
    "import json\n",
    "import os\n",
    "\n",
    "# 경로 설정\n",
    "BASE_DIR = os.path.dirname(os.getcwd())\n",
    "CSV_PATH = os.path.join(BASE_DIR, \"data\", \"HW_LDGS_PET_INFO_202412.csv\")\n",
    "JSON_PATH = os.path.join(BASE_DIR, \"data\", \"pet_lodging_places_202412.json\")\n",
    "\n",
    "# 폴더가 없으면 생성\n",
    "os.makedirs(os.path.dirname(JSON_PATH), exist_ok=True)\n",
    "\n",
    "# CSV 읽기\n",
    "df = pd.read_csv(CSV_PATH, encoding=\"utf-8\")\n",
    "\n",
    "# 문자열 정리\n",
    "df['PET_INFO_CN'] = df['PET_INFO_CN'].fillna(\"\").str.strip()\n",
    "\n",
    "# 변환 결과 저장 리스트\n",
    "documents = []\n",
    "\n",
    "for _, row in df.iterrows():\n",
    "    pet_info = row['PET_INFO_CN']\n",
    "\n",
    "    # 조건: \"불가\" 포함 + \"보조\" 미포함 → 제외\n",
    "    if '불가' in pet_info and '보조' not in pet_info:\n",
    "        continue\n",
    "\n",
    "    province = row['CTPRVN_NM']\n",
    "    city = row['GUGUN_NM'] if pd.notnull(row['GUGUN_NM']) else \"\"\n",
    "    content = (\n",
    "        f\"{province} {city}에 위치한 '{row['LDGS_NM']}'은(는) 반려동물 동반 가능한 숙박업소입니다. \"\n",
    "        f\"주소는 '{row['LDGS_ADDR']}'이고, 반려동물 조건은 '{pet_info}'입니다.\"\n",
    "    )\n",
    "    metadata = {\n",
    "        \"facility_name\": row['LDGS_NM'],\n",
    "        \"province\": province,\n",
    "        \"city\": city,\n",
    "        \"road_address\": row['LDGS_ADDR'],\n",
    "        \"category\": \"숙박업소\",\n",
    "        \"pet_info\": pet_info\n",
    "    }\n",
    "    documents.append({\n",
    "        \"content\": content,\n",
    "        \"metadata\": metadata\n",
    "    })\n",
    "\n",
    "# JSON 저장\n",
    "with open(JSON_PATH, \"w\", encoding=\"utf-8\") as f:\n",
    "    json.dump(documents, f, ensure_ascii=False, indent=2)\n",
    "\n",
    "print(f\"✅ 숙박업소 JSON 변환 완료 (동물 완전 불가 제외): {JSON_PATH}\")\n"
   ]
  },
  {
   "cell_type": "code",
   "execution_count": null,
   "id": "ad5db087",
   "metadata": {},
   "outputs": [],
   "source": []
  }
 ],
 "metadata": {
  "kernelspec": {
   "display_name": "3rdproject",
   "language": "python",
   "name": "python3"
  },
  "language_info": {
   "codemirror_mode": {
    "name": "ipython",
    "version": 3
   },
   "file_extension": ".py",
   "mimetype": "text/x-python",
   "name": "python",
   "nbconvert_exporter": "python",
   "pygments_lexer": "ipython3",
   "version": "3.10.16"
  }
 },
 "nbformat": 4,
 "nbformat_minor": 5
}
